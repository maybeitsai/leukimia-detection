{
 "cells": [
  {
   "cell_type": "markdown",
   "id": "c5175d77",
   "metadata": {},
   "source": [
    "# **Data Understanding**"
   ]
  },
  {
   "cell_type": "markdown",
   "id": "e6a89a07",
   "metadata": {},
   "source": [
    "## 1. Deskripsi Dataset\n",
    "\n",
    "Dataset ini berfokus pada **diagnosis akut limfoblastik leukemia (ALL)** melalui analisis **citra *Peripheral Blood Smear (PBS)***. ALL merupakan salah satu kanker yang cukup umum, di mana diagnosis biasanya membutuhkan tes invasif, mahal, dan memakan waktu.\n",
    "Penggunaan citra PBS menjadi langkah penting dalam **skrining awal kanker** karena lebih cepat dan non-invasif, meskipun masih rawan kesalahan diagnosis akibat tanda dan gejala ALL yang tidak spesifik.\n",
    "\n",
    "Dataset ini dibuat oleh **Laboratorium Sumsum Tulang Rumah Sakit Taleqani (Tehran, Iran)** dengan karakteristik sebagai berikut:\n",
    "\n",
    "* **Jumlah citra**: 3.256 gambar PBS.\n",
    "* **Jumlah pasien**: 89 pasien yang dicurigai ALL.\n",
    "* **Format citra**: JPG.\n",
    "* **Perbesaran mikroskop**: 100x menggunakan kamera Zeiss.\n",
    "* **Penentuan label**: Dilakukan oleh spesialis menggunakan **flow cytometry tool**.\n",
    "\n",
    "---\n",
    "\n",
    "## 2. Kelas Data\n",
    "\n",
    "Dataset terbagi menjadi **dua kelas utama**:\n",
    "\n",
    "1. **Benign (Non-Kanker)**\n",
    "\n",
    "   * Terdiri dari *hematogones* (sel normal).\n",
    "\n",
    "2. **Malignant (Kanker - ALL)**\n",
    "\n",
    "   * Dikelompokkan lagi ke dalam **tiga subtipe limfoblas ganas**, yaitu:\n",
    "\n",
    "     * **Early Pre-B ALL**\n",
    "     * **Pre-B ALL**\n",
    "     * **Pro-B ALL**\n",
    "\n",
    "---\n",
    "\n",
    "## 3. Proses Pengolahan Data Awal\n",
    "\n",
    "* **Pewarnaan sampel** dilakukan oleh staf laboratorium berpengalaman.\n",
    "* **Segmentasi citra** dilakukan dengan **thresholding berbasis warna** pada ruang warna HSV.\n",
    "* Dataset menyediakan **citra asli** serta **citra hasil segmentasi**.\n",
    "\n",
    "---\n",
    "\n",
    "## 4. Tujuan Dataset\n",
    "\n",
    "Dataset ini dirancang untuk:\n",
    "\n",
    "* Mendukung penelitian dalam **klasifikasi ALL dan subtipenya**.\n",
    "* Menjadi benchmark untuk pengembangan **model CNN (Convolutional Neural Network)** yang efisien dan cepat.\n",
    "* Membantu meningkatkan akurasi skrining awal kanker hematologi berbasis citra.\n",
    "\n",
    "---\n",
    "\n",
    "## 5. Referensi\n",
    "\n",
    "* 📄 **Paper**: *A Fast and Efficient CNN Model for B-ALL Diagnosis and its Subtypes Classification using Peripheral Blood Smear Images*\n",
    "* 💻 **Source Code**: [GitHub Repository](https://github.com/MehradAria/ALL-Subtype-Classification)"
   ]
  }
 ],
 "metadata": {
  "kernelspec": {
   "display_name": "tf2-directml",
   "language": "python",
   "name": "python3"
  },
  "language_info": {
   "codemirror_mode": {
    "name": "ipython",
    "version": 3
   },
   "file_extension": ".py",
   "mimetype": "text/x-python",
   "name": "python",
   "nbconvert_exporter": "python",
   "pygments_lexer": "ipython3",
   "version": "3.9.19"
  }
 },
 "nbformat": 4,
 "nbformat_minor": 5
}
